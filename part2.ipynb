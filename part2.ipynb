{
 "cells": [
  {
   "metadata": {},
   "cell_type": "markdown",
   "source": [
    "# Model Improvement - Part 2\n",
    "\n",
    "## Introduction\n",
    "In this section, we will improve the baseline model developed in Part 1. We'll analyze the model's errors, implement various improvements, and compare the performance of the improved model to the baseline model.\n"
   ],
   "id": "6b84ac0c4f4778e7"
  },
  {
   "metadata": {},
   "cell_type": "markdown",
   "source": [
    "# Data Loading and Preprocessing\n",
    "\n"
   ],
   "id": "c7565011db85ad7"
  },
  {
   "metadata": {
    "ExecuteTime": {
     "end_time": "2024-12-29T11:42:22.944148Z",
     "start_time": "2024-12-29T11:42:21.279960Z"
    }
   },
   "cell_type": "code",
   "source": [
    "import pandas as pd\n",
    "from sklearn.model_selection import train_test_split\n",
    "from sklearn.preprocessing import LabelEncoder\n",
    "from sklearn.impute import SimpleImputer\n",
    "\n",
    "# Load data\n",
    "data = pd.read_csv(\"data/car_insurance.csv\")\n",
    "\n",
    "# Fill missing values\n",
    "numeric_cols = data.select_dtypes(include=['number'])\n",
    "data[numeric_cols.columns] = data[numeric_cols.columns].fillna(data[numeric_cols.columns].mean())\n",
    "\n",
    "# Encode categorical features\n",
    "le = LabelEncoder()\n",
    "for col in ['Gender', 'Location.Code', 'Marital.Status']:\n",
    "    data[col] = le.fit_transform(data[col])\n",
    "\n",
    "# Split data into features and target\n",
    "X = data.drop(columns=['Total.Claim.Amount'])\n",
    "y = data['Total.Claim.Amount']\n",
    "\n",
    "# Train-test split\n",
    "X_train, X_test, y_train, y_test = train_test_split(X, y, test_size=0.2, random_state=42)\n"
   ],
   "id": "ef650425b48c62f5",
   "outputs": [],
   "execution_count": 1
  },
  {
   "metadata": {},
   "cell_type": "markdown",
   "source": [
    " # Baseline Model for Comparison\n",
    "\n"
   ],
   "id": "6508e36934a6f766"
  },
  {
   "metadata": {
    "ExecuteTime": {
     "end_time": "2024-12-29T11:42:37.669001Z",
     "start_time": "2024-12-29T11:42:37.621465Z"
    }
   },
   "cell_type": "code",
   "source": [
    "import xgboost as xgb\n",
    "\n",
    "# Baseline Model\n",
    "xgb_model = xgb.XGBRegressor(objective='reg:squarederror', random_state=42, n_estimators=100, max_depth=3)\n",
    "xgb_model.fit(X_train, y_train)\n",
    "\n",
    "# Baseline Predictions\n",
    "y_pred_baseline = xgb_model.predict(X_test)\n"
   ],
   "id": "580cabad99b23806",
   "outputs": [
    {
     "ename": "ModuleNotFoundError",
     "evalue": "No module named 'xgboost'",
     "output_type": "error",
     "traceback": [
      "\u001B[0;31m---------------------------------------------------------------------------\u001B[0m",
      "\u001B[0;31mModuleNotFoundError\u001B[0m                       Traceback (most recent call last)",
      "Cell \u001B[0;32mIn[2], line 1\u001B[0m\n\u001B[0;32m----> 1\u001B[0m \u001B[38;5;28;01mimport\u001B[39;00m \u001B[38;5;21;01mxgboost\u001B[39;00m \u001B[38;5;28;01mas\u001B[39;00m \u001B[38;5;21;01mxgb\u001B[39;00m\n\u001B[1;32m      3\u001B[0m \u001B[38;5;66;03m# Baseline Model\u001B[39;00m\n\u001B[1;32m      4\u001B[0m xgb_model \u001B[38;5;241m=\u001B[39m xgb\u001B[38;5;241m.\u001B[39mXGBRegressor(objective\u001B[38;5;241m=\u001B[39m\u001B[38;5;124m'\u001B[39m\u001B[38;5;124mreg:squarederror\u001B[39m\u001B[38;5;124m'\u001B[39m, random_state\u001B[38;5;241m=\u001B[39m\u001B[38;5;241m42\u001B[39m, n_estimators\u001B[38;5;241m=\u001B[39m\u001B[38;5;241m100\u001B[39m, max_depth\u001B[38;5;241m=\u001B[39m\u001B[38;5;241m3\u001B[39m)\n",
      "\u001B[0;31mModuleNotFoundError\u001B[0m: No module named 'xgboost'"
     ]
    }
   ],
   "execution_count": 2
  },
  {
   "metadata": {},
   "cell_type": "markdown",
   "source": [
    "## Error Analysis and Conclusions\n",
    "\n",
    "Based on the error analysis conducted in Part 1, we identified the following issues:\n",
    "- **Overestimation and Underestimation**: The model tends to overestimate or underestimate in specific cases.\n",
    "- **Feature Importance**: Features like `Monthly.Premium.Auto` and `Location.Code` are significant contributors to prediction errors.\n",
    "- **Outliers**: Many errors are caused by outliers in the data.\n",
    "\n",
    "### Work Plan:\n",
    "1. Perform hyperparameter tuning to optimize the model.\n",
    "2. Feature engineering:\n",
    "   - Create new features or transformations.\n",
    "   - Remove or handle outliers.\n",
    "3. Handle missing data:\n",
    "   - Improve the imputation of missing values.\n",
    "4. Balance data:\n",
    "   - Check for data imbalances and address them if needed.\n"
   ],
   "id": "1f8251f826650b67"
  },
  {
   "metadata": {},
   "cell_type": "markdown",
   "source": [
    "## Improving Model Performance\n",
    "\n",
    "We will implement various techniques to enhance model performance.\n"
   ],
   "id": "dff6d902df1fe083"
  },
  {
   "metadata": {},
   "cell_type": "code",
   "outputs": [],
   "execution_count": null,
   "source": [
    "from sklearn.model_selection import GridSearchCV\n",
    "# Define hyperparameter grid\n",
    "param_grid = {\n",
    "    'n_estimators': [100, 200, 300],\n",
    "    'max_depth': [3, 5, 7],\n",
    "    'learning_rate': [0.01, 0.1, 0.2],\n",
    "}\n",
    "\n",
    "# Initialize model\n",
    "xgb_model = xgb.XGBRegressor(objective='reg:squarederror', random_state=42)\n",
    "\n",
    "# Grid search\n",
    "grid_search = GridSearchCV(estimator=xgb_model, param_grid=param_grid, scoring='neg_mean_absolute_error', cv=5, verbose=2)\n",
    "grid_search.fit(X_train, y_train)\n",
    "\n",
    "# Best parameters\n",
    "print(\"Best parameters:\", grid_search.best_params_)\n",
    "\n",
    "# Train model with best parameters\n",
    "best_model = grid_search.best_estimator_\n"
   ],
   "id": "1c59622b077a4ec6"
  }
 ],
 "metadata": {
  "kernelspec": {
   "display_name": "Python 3",
   "language": "python",
   "name": "python3"
  },
  "language_info": {
   "codemirror_mode": {
    "name": "ipython",
    "version": 2
   },
   "file_extension": ".py",
   "mimetype": "text/x-python",
   "name": "python",
   "nbconvert_exporter": "python",
   "pygments_lexer": "ipython2",
   "version": "2.7.6"
  }
 },
 "nbformat": 4,
 "nbformat_minor": 5
}
